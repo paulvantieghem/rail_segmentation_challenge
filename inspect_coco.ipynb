{
 "cells": [
  {
   "cell_type": "markdown",
   "id": "33c42533-08af-4001-8e3c-59175c4e3c86",
   "metadata": {},
   "source": [
    "Source: https://leimao.github.io/blog/Inspecting-COCO-Dataset-Using-COCO-API/"
   ]
  },
  {
   "cell_type": "code",
   "execution_count": 1,
   "id": "89ed1bd3-56a5-49f4-b93a-e64a1433807f",
   "metadata": {},
   "outputs": [
    {
     "name": "stdout",
     "output_type": "stream",
     "text": [
      "/bin/bash: switchml: line 1: syntax error: unexpected end of file\n",
      "/bin/bash: error importing function definition for `switchml'\n",
      "/bin/bash: _moduleraw: line 1: syntax error: unexpected end of file\n",
      "/bin/bash: error importing function definition for `_moduleraw'\n",
      "Looking in indexes: https://pypi.org/simple, https://pip.repos.neuron.amazonaws.com\n",
      "Requirement already satisfied: matplotlib==3.3.4 in /home/ubuntu/anaconda3/envs/pytorch_latest_p37/lib/python3.7/site-packages (3.3.4)\n",
      "Requirement already satisfied: numpy==1.19.5 in /home/ubuntu/anaconda3/envs/pytorch_latest_p37/lib/python3.7/site-packages (1.19.5)\n",
      "Requirement already satisfied: pillow==8.2.0 in /home/ubuntu/anaconda3/envs/pytorch_latest_p37/lib/python3.7/site-packages (8.2.0)\n",
      "Requirement already satisfied: requests==2.25.1 in /home/ubuntu/anaconda3/envs/pytorch_latest_p37/lib/python3.7/site-packages (2.25.1)\n",
      "Requirement already satisfied: kiwisolver>=1.0.1 in /home/ubuntu/anaconda3/envs/pytorch_latest_p37/lib/python3.7/site-packages (from matplotlib==3.3.4) (1.3.1)\n",
      "Requirement already satisfied: pyparsing!=2.0.4,!=2.1.2,!=2.1.6,>=2.0.3 in /home/ubuntu/anaconda3/envs/pytorch_latest_p37/lib/python3.7/site-packages (from matplotlib==3.3.4) (2.4.7)\n",
      "Requirement already satisfied: python-dateutil>=2.1 in /home/ubuntu/anaconda3/envs/pytorch_latest_p37/lib/python3.7/site-packages (from matplotlib==3.3.4) (2.8.1)\n",
      "Requirement already satisfied: cycler>=0.10 in /home/ubuntu/anaconda3/envs/pytorch_latest_p37/lib/python3.7/site-packages (from matplotlib==3.3.4) (0.10.0)\n",
      "Requirement already satisfied: urllib3<1.27,>=1.21.1 in /home/ubuntu/anaconda3/envs/pytorch_latest_p37/lib/python3.7/site-packages (from requests==2.25.1) (1.26.7)\n",
      "Requirement already satisfied: idna<3,>=2.5 in /home/ubuntu/anaconda3/envs/pytorch_latest_p37/lib/python3.7/site-packages (from requests==2.25.1) (2.10)\n",
      "Requirement already satisfied: chardet<5,>=3.0.2 in /home/ubuntu/anaconda3/envs/pytorch_latest_p37/lib/python3.7/site-packages (from requests==2.25.1) (4.0.0)\n",
      "Requirement already satisfied: certifi>=2017.4.17 in /home/ubuntu/anaconda3/envs/pytorch_latest_p37/lib/python3.7/site-packages (from requests==2.25.1) (2021.10.8)\n",
      "Requirement already satisfied: six in /home/ubuntu/anaconda3/envs/pytorch_latest_p37/lib/python3.7/site-packages (from cycler>=0.10->matplotlib==3.3.4) (1.15.0)\n",
      "\u001b[33mWARNING: You are using pip version 21.3; however, version 22.0.3 is available.\n",
      "You should consider upgrading via the '/home/ubuntu/anaconda3/envs/pytorch_latest_p37/bin/python -m pip install --upgrade pip' command.\u001b[0m\n",
      "/bin/bash: switchml: line 1: syntax error: unexpected end of file\n",
      "/bin/bash: error importing function definition for `switchml'\n",
      "/bin/bash: _moduleraw: line 1: syntax error: unexpected end of file\n",
      "/bin/bash: error importing function definition for `_moduleraw'\n",
      "Looking in indexes: https://pypi.org/simple, https://pip.repos.neuron.amazonaws.com\n",
      "Collecting git+https://github.com/leimao/cocoapi.git#subdirectory=PythonAPI\n",
      "  Cloning https://github.com/leimao/cocoapi.git to /tmp/pip-req-build-y9akjl0x\n",
      "  Running command git clone --filter=blob:none -q https://github.com/leimao/cocoapi.git /tmp/pip-req-build-y9akjl0x\n",
      "  Resolved https://github.com/leimao/cocoapi.git to commit 8c9bcc3cf640524c4c20a9c40e89cb6a2f2fa0e9\n",
      "  Preparing metadata (setup.py) ... \u001b[?25ldone\n",
      "\u001b[?25hRequirement already satisfied: setuptools>=18.0 in /home/ubuntu/anaconda3/envs/pytorch_latest_p37/lib/python3.7/site-packages (from pycocotools==2.0) (49.6.0.post20210108)\n",
      "Requirement already satisfied: cython>=0.27.3 in /home/ubuntu/anaconda3/envs/pytorch_latest_p37/lib/python3.7/site-packages (from pycocotools==2.0) (0.29.22)\n",
      "Requirement already satisfied: matplotlib>=2.1.0 in /home/ubuntu/anaconda3/envs/pytorch_latest_p37/lib/python3.7/site-packages (from pycocotools==2.0) (3.3.4)\n",
      "Requirement already satisfied: pillow>=6.2.0 in /home/ubuntu/anaconda3/envs/pytorch_latest_p37/lib/python3.7/site-packages (from matplotlib>=2.1.0->pycocotools==2.0) (8.2.0)\n",
      "Requirement already satisfied: python-dateutil>=2.1 in /home/ubuntu/anaconda3/envs/pytorch_latest_p37/lib/python3.7/site-packages (from matplotlib>=2.1.0->pycocotools==2.0) (2.8.1)\n",
      "Requirement already satisfied: numpy>=1.15 in /home/ubuntu/anaconda3/envs/pytorch_latest_p37/lib/python3.7/site-packages (from matplotlib>=2.1.0->pycocotools==2.0) (1.19.5)\n",
      "Requirement already satisfied: pyparsing!=2.0.4,!=2.1.2,!=2.1.6,>=2.0.3 in /home/ubuntu/anaconda3/envs/pytorch_latest_p37/lib/python3.7/site-packages (from matplotlib>=2.1.0->pycocotools==2.0) (2.4.7)\n",
      "Requirement already satisfied: kiwisolver>=1.0.1 in /home/ubuntu/anaconda3/envs/pytorch_latest_p37/lib/python3.7/site-packages (from matplotlib>=2.1.0->pycocotools==2.0) (1.3.1)\n",
      "Requirement already satisfied: cycler>=0.10 in /home/ubuntu/anaconda3/envs/pytorch_latest_p37/lib/python3.7/site-packages (from matplotlib>=2.1.0->pycocotools==2.0) (0.10.0)\n",
      "Requirement already satisfied: six in /home/ubuntu/anaconda3/envs/pytorch_latest_p37/lib/python3.7/site-packages (from cycler>=0.10->matplotlib>=2.1.0->pycocotools==2.0) (1.15.0)\n",
      "Building wheels for collected packages: pycocotools\n",
      "  Building wheel for pycocotools (setup.py) ... \u001b[?25ldone\n",
      "\u001b[?25h  Created wheel for pycocotools: filename=pycocotools-2.0-cp37-cp37m-linux_x86_64.whl size=92583 sha256=b89166e44ceb53b14680f4bc44c4a486e76324a9aebe00744f0eb56b3a3e2688\n",
      "  Stored in directory: /tmp/pip-ephem-wheel-cache-o8i6nbnf/wheels/ae/69/62/b04044fd6c6a67df4cf915150a18dbfb0afdee4bedada04049\n",
      "Successfully built pycocotools\n",
      "Installing collected packages: pycocotools\n",
      "  Attempting uninstall: pycocotools\n",
      "    Found existing installation: pycocotools 2.0.4\n",
      "    Uninstalling pycocotools-2.0.4:\n",
      "      Successfully uninstalled pycocotools-2.0.4\n",
      "\u001b[31mERROR: pip's dependency resolver does not currently take into account all the packages that are installed. This behaviour is the source of the following dependency conflicts.\n",
      "detectron2 0.6+cu111 requires pycocotools>=2.0.2, but you have pycocotools 2.0 which is incompatible.\u001b[0m\n",
      "Successfully installed pycocotools-2.0\n",
      "\u001b[33mWARNING: You are using pip version 21.3; however, version 22.0.3 is available.\n",
      "You should consider upgrading via the '/home/ubuntu/anaconda3/envs/pytorch_latest_p37/bin/python -m pip install --upgrade pip' command.\u001b[0m\n"
     ]
    }
   ],
   "source": [
    "!pip install matplotlib==3.3.4 numpy==1.19.5 pillow==8.2.0 requests==2.25.1\n",
    "!pip install -U 'git+https://github.com/leimao/cocoapi.git#subdirectory=PythonAPI'"
   ]
  },
  {
   "cell_type": "code",
   "execution_count": 2,
   "id": "e7510056-af8f-4847-82cc-a22c54e30aac",
   "metadata": {},
   "outputs": [],
   "source": [
    "from explore_coco import *"
   ]
  },
  {
   "cell_type": "code",
   "execution_count": 4,
   "id": "786268de-2cdd-4007-a4cf-4667e4e16fee",
   "metadata": {},
   "outputs": [
    {
     "name": "stdout",
     "output_type": "stream",
     "text": [
      "/bin/bash: switchml: line 1: syntax error: unexpected end of file\n",
      "/bin/bash: error importing function definition for `switchml'\n",
      "/bin/bash: _moduleraw: line 1: syntax error: unexpected end of file\n",
      "/bin/bash: error importing function definition for `_moduleraw'\n",
      "loading annotations into memory...\n",
      "Done (t=0.00s)\n",
      "creating index...\n",
      "index created!\n",
      "Number of Unique Categories: 1\n",
      "Category IDs:\n",
      "[1]\n",
      "Categories Names:\n",
      "['rail']\n",
      "Category ID -> Category Name:\n",
      "Category ID: 1, Category Name: rail, Supercategory: rail\n",
      "Category Name -> ID:\n",
      "Category Name: rail, Category ID: 1\n",
      "Number of Images Containing rail: 4\n",
      "Image ID: 0, File Name: rs00000.jpg\n",
      "Annotations for Image ID 0:\n",
      "[{'segmentation': [[934.0, 1079.5, 1165.5, 1075.0, 1143.5, 1023.0, 1141.5, 1015.0, 1131.5, 994.0, 1129.5, 986.0, 1119.5, 965.0, 1117.5, 957.0, 1107.5, 936.0, 1105.5, 928.0, 1100.5, 919.0, 1097.5, 908.0, 1087.5, 887.0, 1075.5, 852.0, 1070.5, 843.0, 1059.5, 811.0, 1054.5, 802.0, 1049.5, 785.0, 1038.5, 761.0, 1035.5, 747.0, 1025.5, 716.0, 1023.5, 704.0, 1017.5, 688.0, 1012.5, 659.0, 1012.5, 647.0, 1017.5, 625.0, 1022.5, 617.0, 1034.0, 607.5, 1062.0, 596.5, 1079.0, 594.5, 1098.0, 589.5, 1110.0, 589.5, 1139.0, 584.5, 1145.5, 581.0, 1147.0, 576.5, 1134.0, 581.5, 1115.0, 584.5, 1103.0, 584.5, 1054.0, 592.5, 1021.0, 603.5, 999.0, 615.5, 985.5, 628.0, 971.5, 648.0, 961.5, 669.0, 944.5, 730.0, 936.5, 772.0, 935.5, 790.0, 932.5, 804.0, 932.5, 816.0, 929.5, 829.0, 929.5, 841.0, 926.5, 855.0, 926.5, 866.0, 923.5, 880.0, 923.5, 892.0, 920.5, 905.0, 920.5, 917.0, 917.5, 930.0, 917.5, 942.0, 913.5, 962.0, 913.5, 974.0, 910.5, 987.0, 910.5, 999.0, 907.5, 1013.0, 907.5, 1024.0, 904.5, 1038.0, 904.5, 1050.0, 900.5, 1076.0, 901.0, 1079.5, 934.0, 1079.5]], 'area': 67771.5, 'iscrowd': 0, 'image_id': 0, 'bbox': [900.5, 576.5, 265.0, 503.0], 'category_id': 1, 'id': 1}]\n"
     ]
    }
   ],
   "source": [
    "!python explore_coco.py "
   ]
  },
  {
   "cell_type": "code",
   "execution_count": null,
   "id": "895bd87e-244d-40e3-baf7-0f45b852b9bd",
   "metadata": {},
   "outputs": [],
   "source": []
  }
 ],
 "metadata": {
  "kernelspec": {
   "display_name": "Environment (conda_pytorch_latest_p37)",
   "language": "python",
   "name": "conda_pytorch_latest_p37"
  },
  "language_info": {
   "codemirror_mode": {
    "name": "ipython",
    "version": 3
   },
   "file_extension": ".py",
   "mimetype": "text/x-python",
   "name": "python",
   "nbconvert_exporter": "python",
   "pygments_lexer": "ipython3",
   "version": "3.7.10"
  }
 },
 "nbformat": 4,
 "nbformat_minor": 5
}

{
 "cells": [
  {
   "cell_type": "code",
   "execution_count": 3,
   "id": "3862980d-ad2b-4b23-8a2a-04d47f3dc045",
   "metadata": {},
   "outputs": [
    {
     "name": "stdout",
     "output_type": "stream",
     "text": [
      "/bin/bash: switchml: line 1: syntax error: unexpected end of file\n",
      "/bin/bash: error importing function definition for `switchml'\n",
      "/bin/bash: _moduleraw: line 1: syntax error: unexpected end of file\n",
      "/bin/bash: error importing function definition for `_moduleraw'\n",
      "Loading json file...\n",
      "Processing input json...\n",
      "Filtering...\n",
      "Saving new json file...\n",
      "Filtered json saved.\n",
      "/bin/bash: switchml: line 1: syntax error: unexpected end of file\n",
      "/bin/bash: error importing function definition for `switchml'\n",
      "/bin/bash: _moduleraw: line 1: syntax error: unexpected end of file\n",
      "/bin/bash: error importing function definition for `_moduleraw'\n",
      "Loading json file...\n",
      "Processing input json...\n",
      "Filtering...\n",
      "Saving new json file...\n",
      "Filtered json saved.\n"
     ]
    }
   ],
   "source": [
    "! python coco_filter.py --input_json /home/ubuntu/OTIV_challenge/test_dataset_COCO/train.json --output_json /home/ubuntu/OTIV_challenge/test_dataset_COCO/train_filtered.json --categories rail\n",
    "! python coco_filter.py --input_json /home/ubuntu/OTIV_challenge/test_dataset_COCO/val.json --output_json /home/ubuntu/OTIV_challenge/test_dataset_COCO/val_filtered.json --categories rail"
   ]
  },
  {
   "cell_type": "code",
   "execution_count": null,
   "id": "99163236-5ba4-4585-a56d-30f2d328e341",
   "metadata": {},
   "outputs": [],
   "source": []
  }
 ],
 "metadata": {
  "kernelspec": {
   "display_name": "Environment (conda_pytorch_latest_p37)",
   "language": "python",
   "name": "conda_pytorch_latest_p37"
  },
  "language_info": {
   "codemirror_mode": {
    "name": "ipython",
    "version": 3
   },
   "file_extension": ".py",
   "mimetype": "text/x-python",
   "name": "python",
   "nbconvert_exporter": "python",
   "pygments_lexer": "ipython3",
   "version": "3.7.10"
  }
 },
 "nbformat": 4,
 "nbformat_minor": 5
}
